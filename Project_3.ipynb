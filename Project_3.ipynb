{
  "nbformat": 4,
  "nbformat_minor": 0,
  "metadata": {
    "colab": {
      "name": "Project 3.ipynb",
      "provenance": [],
      "authorship_tag": "ABX9TyN0QUCJX1A3+s/jVHn322Pl",
      "include_colab_link": true
    },
    "kernelspec": {
      "name": "python3",
      "display_name": "Python 3"
    },
    "language_info": {
      "name": "python"
    }
  },
  "cells": [
    {
      "cell_type": "markdown",
      "metadata": {
        "id": "view-in-github",
        "colab_type": "text"
      },
      "source": [
        "<a href=\"https://colab.research.google.com/github/BrianHall1992/LAGCC-Project-3/blob/main/Project_3.ipynb\" target=\"_parent\"><img src=\"https://colab.research.google.com/assets/colab-badge.svg\" alt=\"Open In Colab\"/></a>"
      ]
    },
    {
      "cell_type": "markdown",
      "metadata": {
        "id": "D5tjTcgjVEMu"
      },
      "source": [
        "I had issues loading the dataset from the World Bank from my laptop to colab, so found it was easier to put it onto Google sheets and research how to connect the two services"
      ]
    },
    {
      "cell_type": "code",
      "metadata": {
        "id": "YseuZydIMkL9"
      },
      "source": [
        "from google.colab import auth\n",
        "auth.authenticate_user()\n",
        "\n",
        "import gspread\n",
        "from oauth2client.client import GoogleCredentials\n",
        "\n",
        "gc = gspread.authorize(GoogleCredentials.get_application_default())\n",
        "\n",
        "import pandas as pd\n",
        "import numpy as np\n",
        "import seaborn as sns\n",
        "import matplotlib.pyplot as plt\n",
        "%matplotlib inline"
      ],
      "execution_count": 1,
      "outputs": []
    },
    {
      "cell_type": "markdown",
      "metadata": {
        "id": "_tffBM6vVXEl"
      },
      "source": [
        "##Opens the worksheet from Google sheets, gets the values from that sheet, displays the head to see any issues. First off, the column headers are treated as the first row, so I need to fix that"
      ]
    },
    {
      "cell_type": "code",
      "metadata": {
        "colab": {
          "base_uri": "https://localhost:8080/",
          "height": 330
        },
        "id": "p9PTh-JCMw5D",
        "outputId": "6ce1fd7d-69c1-4e58-a8c4-8e933453eac0"
      },
      "source": [
        "worksheet=gc.open('WDBI').get_worksheet(0)\n",
        "rows=worksheet.get_all_values()\n",
        "df=pd.DataFrame.from_records(rows)\n",
        "df.head()"
      ],
      "execution_count": 2,
      "outputs": [
        {
          "output_type": "execute_result",
          "data": {
            "text/html": [
              "<div>\n",
              "<style scoped>\n",
              "    .dataframe tbody tr th:only-of-type {\n",
              "        vertical-align: middle;\n",
              "    }\n",
              "\n",
              "    .dataframe tbody tr th {\n",
              "        vertical-align: top;\n",
              "    }\n",
              "\n",
              "    .dataframe thead th {\n",
              "        text-align: right;\n",
              "    }\n",
              "</style>\n",
              "<table border=\"1\" class=\"dataframe\">\n",
              "  <thead>\n",
              "    <tr style=\"text-align: right;\">\n",
              "      <th></th>\n",
              "      <th>0</th>\n",
              "      <th>1</th>\n",
              "      <th>2</th>\n",
              "      <th>3</th>\n",
              "      <th>4</th>\n",
              "      <th>5</th>\n",
              "      <th>6</th>\n",
              "      <th>7</th>\n",
              "      <th>8</th>\n",
              "      <th>9</th>\n",
              "      <th>10</th>\n",
              "      <th>11</th>\n",
              "      <th>12</th>\n",
              "      <th>13</th>\n",
              "      <th>14</th>\n",
              "      <th>15</th>\n",
              "      <th>16</th>\n",
              "      <th>17</th>\n",
              "    </tr>\n",
              "  </thead>\n",
              "  <tbody>\n",
              "    <tr>\n",
              "      <th>0</th>\n",
              "      <td>Time</td>\n",
              "      <td>Time Code</td>\n",
              "      <td>Country Name</td>\n",
              "      <td>Country Code</td>\n",
              "      <td>Current health expenditure (% of GDP) [SH.XPD....</td>\n",
              "      <td>Domestic general government health expenditure...</td>\n",
              "      <td>Domestic general government health expenditure...</td>\n",
              "      <td>Domestic general government health expenditure...</td>\n",
              "      <td>Domestic private health expenditure (% of curr...</td>\n",
              "      <td>External health expenditure (% of current heal...</td>\n",
              "      <td>Military expenditure (% of GDP) [MS.MIL.XPND.G...</td>\n",
              "      <td>Military expenditure (% of general government ...</td>\n",
              "      <td>Out-of-pocket expenditure (% of current health...</td>\n",
              "      <td>Risk of catastrophic expenditure for surgical ...</td>\n",
              "      <td>Risk of impoverishing expenditure for surgical...</td>\n",
              "      <td>Life expectancy at birth, total (years) [SP.DY...</td>\n",
              "      <td>Life expectancy at birth, male (years) [SP.DYN...</td>\n",
              "      <td>Life expectancy at birth, female (years) [SP.D...</td>\n",
              "    </tr>\n",
              "    <tr>\n",
              "      <th>1</th>\n",
              "      <td>1996</td>\n",
              "      <td>YR1996</td>\n",
              "      <td>Afghanistan</td>\n",
              "      <td>AFG</td>\n",
              "      <td>..</td>\n",
              "      <td>..</td>\n",
              "      <td>..</td>\n",
              "      <td>..</td>\n",
              "      <td>..</td>\n",
              "      <td>..</td>\n",
              "      <td>..</td>\n",
              "      <td>..</td>\n",
              "      <td>..</td>\n",
              "      <td>..</td>\n",
              "      <td>..</td>\n",
              "      <td>53.924</td>\n",
              "      <td>52.798</td>\n",
              "      <td>55.141</td>\n",
              "    </tr>\n",
              "    <tr>\n",
              "      <th>2</th>\n",
              "      <td>1996</td>\n",
              "      <td>YR1996</td>\n",
              "      <td>Albania</td>\n",
              "      <td>ALB</td>\n",
              "      <td>..</td>\n",
              "      <td>..</td>\n",
              "      <td>..</td>\n",
              "      <td>..</td>\n",
              "      <td>..</td>\n",
              "      <td>..</td>\n",
              "      <td>1.379029627</td>\n",
              "      <td>..</td>\n",
              "      <td>..</td>\n",
              "      <td>..</td>\n",
              "      <td>..</td>\n",
              "      <td>72.495</td>\n",
              "      <td>69.631</td>\n",
              "      <td>75.618</td>\n",
              "    </tr>\n",
              "    <tr>\n",
              "      <th>3</th>\n",
              "      <td>1996</td>\n",
              "      <td>YR1996</td>\n",
              "      <td>Algeria</td>\n",
              "      <td>DZA</td>\n",
              "      <td>..</td>\n",
              "      <td>..</td>\n",
              "      <td>..</td>\n",
              "      <td>..</td>\n",
              "      <td>..</td>\n",
              "      <td>..</td>\n",
              "      <td>3.094088396</td>\n",
              "      <td>10.97405635</td>\n",
              "      <td>..</td>\n",
              "      <td>..</td>\n",
              "      <td>..</td>\n",
              "      <td>68.919</td>\n",
              "      <td>67.441</td>\n",
              "      <td>70.441</td>\n",
              "    </tr>\n",
              "    <tr>\n",
              "      <th>4</th>\n",
              "      <td>1996</td>\n",
              "      <td>YR1996</td>\n",
              "      <td>American Samoa</td>\n",
              "      <td>ASM</td>\n",
              "      <td>..</td>\n",
              "      <td>..</td>\n",
              "      <td>..</td>\n",
              "      <td>..</td>\n",
              "      <td>..</td>\n",
              "      <td>..</td>\n",
              "      <td>..</td>\n",
              "      <td>..</td>\n",
              "      <td>..</td>\n",
              "      <td>..</td>\n",
              "      <td>..</td>\n",
              "      <td>..</td>\n",
              "      <td>..</td>\n",
              "      <td>..</td>\n",
              "    </tr>\n",
              "  </tbody>\n",
              "</table>\n",
              "</div>"
            ],
            "text/plain": [
              "     0   ...                                                 17\n",
              "0  Time  ...  Life expectancy at birth, female (years) [SP.D...\n",
              "1  1996  ...                                             55.141\n",
              "2  1996  ...                                             75.618\n",
              "3  1996  ...                                             70.441\n",
              "4  1996  ...                                                 ..\n",
              "\n",
              "[5 rows x 18 columns]"
            ]
          },
          "metadata": {
            "tags": []
          },
          "execution_count": 2
        }
      ]
    },
    {
      "cell_type": "markdown",
      "metadata": {
        "id": "wO5A5KV6VnL1"
      },
      "source": [
        "Here I correct the colmn heads by creating a list of the column names, removing them from the dataframe, and then adjusting that new dataframe with the column names correctly. I go back to inspecting the data"
      ]
    },
    {
      "cell_type": "code",
      "metadata": {
        "colab": {
          "base_uri": "https://localhost:8080/",
          "height": 347
        },
        "id": "Jyp4y7zBUClC",
        "outputId": "817abb33-f738-4bd9-a566-82281a2c808b"
      },
      "source": [
        "new_header = df.iloc[0]\n",
        "df=df[1:]\n",
        "df.columns=new_header\n",
        "df.head()"
      ],
      "execution_count": 3,
      "outputs": [
        {
          "output_type": "execute_result",
          "data": {
            "text/html": [
              "<div>\n",
              "<style scoped>\n",
              "    .dataframe tbody tr th:only-of-type {\n",
              "        vertical-align: middle;\n",
              "    }\n",
              "\n",
              "    .dataframe tbody tr th {\n",
              "        vertical-align: top;\n",
              "    }\n",
              "\n",
              "    .dataframe thead th {\n",
              "        text-align: right;\n",
              "    }\n",
              "</style>\n",
              "<table border=\"1\" class=\"dataframe\">\n",
              "  <thead>\n",
              "    <tr style=\"text-align: right;\">\n",
              "      <th></th>\n",
              "      <th>Time</th>\n",
              "      <th>Time Code</th>\n",
              "      <th>Country Name</th>\n",
              "      <th>Country Code</th>\n",
              "      <th>Current health expenditure (% of GDP) [SH.XPD.CHEX.GD.ZS]</th>\n",
              "      <th>Domestic general government health expenditure (% of current health expenditure) [SH.XPD.GHED.CH.ZS]</th>\n",
              "      <th>Domestic general government health expenditure (% of GDP) [SH.XPD.GHED.GD.ZS]</th>\n",
              "      <th>Domestic general government health expenditure (% of general government expenditure) [SH.XPD.GHED.GE.ZS]</th>\n",
              "      <th>Domestic private health expenditure (% of current health expenditure) [SH.XPD.PVTD.CH.ZS]</th>\n",
              "      <th>External health expenditure (% of current health expenditure) [SH.XPD.EHEX.CH.ZS]</th>\n",
              "      <th>Military expenditure (% of GDP) [MS.MIL.XPND.GD.ZS]</th>\n",
              "      <th>Military expenditure (% of general government expenditure) [MS.MIL.XPND.ZS]</th>\n",
              "      <th>Out-of-pocket expenditure (% of current health expenditure) [SH.XPD.OOPC.CH.ZS]</th>\n",
              "      <th>Risk of catastrophic expenditure for surgical care (% of people at risk) [SH.SGR.CRSK.ZS]</th>\n",
              "      <th>Risk of impoverishing expenditure for surgical care (% of people at risk) [SH.SGR.IRSK.ZS]</th>\n",
              "      <th>Life expectancy at birth, total (years) [SP.DYN.LE00.IN]</th>\n",
              "      <th>Life expectancy at birth, male (years) [SP.DYN.LE00.MA.IN]</th>\n",
              "      <th>Life expectancy at birth, female (years) [SP.DYN.LE00.FE.IN]</th>\n",
              "    </tr>\n",
              "  </thead>\n",
              "  <tbody>\n",
              "    <tr>\n",
              "      <th>1</th>\n",
              "      <td>1996</td>\n",
              "      <td>YR1996</td>\n",
              "      <td>Afghanistan</td>\n",
              "      <td>AFG</td>\n",
              "      <td>..</td>\n",
              "      <td>..</td>\n",
              "      <td>..</td>\n",
              "      <td>..</td>\n",
              "      <td>..</td>\n",
              "      <td>..</td>\n",
              "      <td>..</td>\n",
              "      <td>..</td>\n",
              "      <td>..</td>\n",
              "      <td>..</td>\n",
              "      <td>..</td>\n",
              "      <td>53.924</td>\n",
              "      <td>52.798</td>\n",
              "      <td>55.141</td>\n",
              "    </tr>\n",
              "    <tr>\n",
              "      <th>2</th>\n",
              "      <td>1996</td>\n",
              "      <td>YR1996</td>\n",
              "      <td>Albania</td>\n",
              "      <td>ALB</td>\n",
              "      <td>..</td>\n",
              "      <td>..</td>\n",
              "      <td>..</td>\n",
              "      <td>..</td>\n",
              "      <td>..</td>\n",
              "      <td>..</td>\n",
              "      <td>1.379029627</td>\n",
              "      <td>..</td>\n",
              "      <td>..</td>\n",
              "      <td>..</td>\n",
              "      <td>..</td>\n",
              "      <td>72.495</td>\n",
              "      <td>69.631</td>\n",
              "      <td>75.618</td>\n",
              "    </tr>\n",
              "    <tr>\n",
              "      <th>3</th>\n",
              "      <td>1996</td>\n",
              "      <td>YR1996</td>\n",
              "      <td>Algeria</td>\n",
              "      <td>DZA</td>\n",
              "      <td>..</td>\n",
              "      <td>..</td>\n",
              "      <td>..</td>\n",
              "      <td>..</td>\n",
              "      <td>..</td>\n",
              "      <td>..</td>\n",
              "      <td>3.094088396</td>\n",
              "      <td>10.97405635</td>\n",
              "      <td>..</td>\n",
              "      <td>..</td>\n",
              "      <td>..</td>\n",
              "      <td>68.919</td>\n",
              "      <td>67.441</td>\n",
              "      <td>70.441</td>\n",
              "    </tr>\n",
              "    <tr>\n",
              "      <th>4</th>\n",
              "      <td>1996</td>\n",
              "      <td>YR1996</td>\n",
              "      <td>American Samoa</td>\n",
              "      <td>ASM</td>\n",
              "      <td>..</td>\n",
              "      <td>..</td>\n",
              "      <td>..</td>\n",
              "      <td>..</td>\n",
              "      <td>..</td>\n",
              "      <td>..</td>\n",
              "      <td>..</td>\n",
              "      <td>..</td>\n",
              "      <td>..</td>\n",
              "      <td>..</td>\n",
              "      <td>..</td>\n",
              "      <td>..</td>\n",
              "      <td>..</td>\n",
              "      <td>..</td>\n",
              "    </tr>\n",
              "    <tr>\n",
              "      <th>5</th>\n",
              "      <td>1996</td>\n",
              "      <td>YR1996</td>\n",
              "      <td>Andorra</td>\n",
              "      <td>AND</td>\n",
              "      <td>..</td>\n",
              "      <td>..</td>\n",
              "      <td>..</td>\n",
              "      <td>..</td>\n",
              "      <td>..</td>\n",
              "      <td>..</td>\n",
              "      <td>..</td>\n",
              "      <td>..</td>\n",
              "      <td>..</td>\n",
              "      <td>..</td>\n",
              "      <td>..</td>\n",
              "      <td>..</td>\n",
              "      <td>..</td>\n",
              "      <td>..</td>\n",
              "    </tr>\n",
              "  </tbody>\n",
              "</table>\n",
              "</div>"
            ],
            "text/plain": [
              "0  Time  ... Life expectancy at birth, female (years) [SP.DYN.LE00.FE.IN]\n",
              "1  1996  ...                                             55.141          \n",
              "2  1996  ...                                             75.618          \n",
              "3  1996  ...                                             70.441          \n",
              "4  1996  ...                                                 ..          \n",
              "5  1996  ...                                                 ..          \n",
              "\n",
              "[5 rows x 18 columns]"
            ]
          },
          "metadata": {
            "tags": []
          },
          "execution_count": 3
        }
      ]
    },
    {
      "cell_type": "markdown",
      "metadata": {
        "id": "UlqQjmtJWBgz"
      },
      "source": [
        "While the column names are now correct, since there are many with long names I'll call them for reference, and then know how to rename them to remove the series codes.Next, I replace all the '..'s with NaN from numpy so I can perform operations on the dataset"
      ]
    },
    {
      "cell_type": "code",
      "metadata": {
        "colab": {
          "base_uri": "https://localhost:8080/"
        },
        "id": "drvbuM8YWS4w",
        "outputId": "0cf5fb28-239b-4999-a50d-7ec3b0418b20"
      },
      "source": [
        "df.columns\n"
      ],
      "execution_count": 5,
      "outputs": [
        {
          "output_type": "execute_result",
          "data": {
            "text/plain": [
              "Index(['Time', 'Time Code', 'Country Name', 'Country Code',\n",
              "       'Current health expenditure (% of GDP) [SH.XPD.CHEX.GD.ZS]',\n",
              "       'Domestic general government health expenditure (% of current health expenditure) [SH.XPD.GHED.CH.ZS]',\n",
              "       'Domestic general government health expenditure (% of GDP) [SH.XPD.GHED.GD.ZS]',\n",
              "       'Domestic general government health expenditure (% of general government expenditure) [SH.XPD.GHED.GE.ZS]',\n",
              "       'Domestic private health expenditure (% of current health expenditure) [SH.XPD.PVTD.CH.ZS]',\n",
              "       'External health expenditure (% of current health expenditure) [SH.XPD.EHEX.CH.ZS]',\n",
              "       'Military expenditure (% of GDP) [MS.MIL.XPND.GD.ZS]',\n",
              "       'Military expenditure (% of general government expenditure) [MS.MIL.XPND.ZS]',\n",
              "       'Out-of-pocket expenditure (% of current health expenditure) [SH.XPD.OOPC.CH.ZS]',\n",
              "       'Risk of catastrophic expenditure for surgical care (% of people at risk) [SH.SGR.CRSK.ZS]',\n",
              "       'Risk of impoverishing expenditure for surgical care (% of people at risk) [SH.SGR.IRSK.ZS]',\n",
              "       'Life expectancy at birth, total (years) [SP.DYN.LE00.IN]',\n",
              "       'Life expectancy at birth, male (years) [SP.DYN.LE00.MA.IN]',\n",
              "       'Life expectancy at birth, female (years) [SP.DYN.LE00.FE.IN]'],\n",
              "      dtype='object', name=0)"
            ]
          },
          "metadata": {
            "tags": []
          },
          "execution_count": 5
        }
      ]
    },
    {
      "cell_type": "code",
      "metadata": {
        "colab": {
          "base_uri": "https://localhost:8080/",
          "height": 382
        },
        "id": "5qPcZAlnLwUh",
        "outputId": "eb5d7dfa-29de-496d-e3c1-35a4262efb1b"
      },
      "source": [
        "df.rename(columns={'Current health expenditure (% of GDP) [SH.XPD.CHEX.GD.ZS]': 'Current health expenditure (% of GDP)',\n",
        "       'Domestic general government health expenditure (% of current health expenditure) [SH.XPD.GHED.CH.ZS]':'Domestic general government health expenditure (% of current health expenditure)',\n",
        "       'Domestic general government health expenditure (% of GDP) [SH.XPD.GHED.GD.ZS]':'Domestic general government health expenditure (% of GDP)',\n",
        "       'Domestic general government health expenditure (% of general government expenditure) [SH.XPD.GHED.GE.ZS]':'Domestic general government health expenditure (% of general government expenditure)',\n",
        "       'Domestic private health expenditure (% of current health expenditure) [SH.XPD.PVTD.CH.ZS]':'Domestic private health expenditure (% of current health expenditure)',\n",
        "       'External health expenditure (% of current health expenditure) [SH.XPD.EHEX.CH.ZS]':'External health expenditure (% of current health expenditure)',\n",
        "       'Military expenditure (% of GDP) [MS.MIL.XPND.GD.ZS]':'Military expenditure (% of GDP)',\n",
        "       'Military expenditure (% of general government expenditure) [MS.MIL.XPND.ZS]':'Military expenditure (% of general government expenditure)',\n",
        "       'Out-of-pocket expenditure (% of current health expenditure) [SH.XPD.OOPC.CH.ZS]':'Out-of-pocket expenditure (% of current health expenditure)',\n",
        "       'Risk of catastrophic expenditure for surgical care (% of people at risk) [SH.SGR.CRSK.ZS]':'Risk of catastrophic expenditure for surgical care (% of people at risk)',\n",
        "       'Risk of impoverishing expenditure for surgical care (% of people at risk) [SH.SGR.IRSK.ZS]':'Risk of impoverishing expenditure for surgical care (% of people at risk)',\n",
        "       'Life expectancy at birth, total (years) [SP.DYN.LE00.IN]':'Life expectancy at birth, total (years)',\n",
        "       'Life expectancy at birth, male (years) [SP.DYN.LE00.MA.IN]':'Life expectancy at birth, male (years)',\n",
        "       'Life expectancy at birth, female (years) [SP.DYN.LE00.FE.IN]':'Life expectancy at birth, female (years)'},inplace=True)\n",
        "df.head()"
      ],
      "execution_count": 4,
      "outputs": [
        {
          "output_type": "execute_result",
          "data": {
            "text/html": [
              "<div>\n",
              "<style scoped>\n",
              "    .dataframe tbody tr th:only-of-type {\n",
              "        vertical-align: middle;\n",
              "    }\n",
              "\n",
              "    .dataframe tbody tr th {\n",
              "        vertical-align: top;\n",
              "    }\n",
              "\n",
              "    .dataframe thead th {\n",
              "        text-align: right;\n",
              "    }\n",
              "</style>\n",
              "<table border=\"1\" class=\"dataframe\">\n",
              "  <thead>\n",
              "    <tr style=\"text-align: right;\">\n",
              "      <th></th>\n",
              "      <th>Time</th>\n",
              "      <th>Time Code</th>\n",
              "      <th>Country Name</th>\n",
              "      <th>Country Code</th>\n",
              "      <th>Current health expenditure (% of GDP)</th>\n",
              "      <th>Domestic general government health expenditure (% of current health expenditure)</th>\n",
              "      <th>Domestic general government health expenditure (% of GDP)</th>\n",
              "      <th>Domestic general government health expenditure (% of general government expenditure)</th>\n",
              "      <th>Domestic private health expenditure (% of current health expenditure)</th>\n",
              "      <th>External health expenditure (% of current health expenditure)</th>\n",
              "      <th>Military expenditure (% of GDP)</th>\n",
              "      <th>Military expenditure (% of general government expenditure)</th>\n",
              "      <th>Out-of-pocket expenditure (% of current health expenditure)</th>\n",
              "      <th>Risk of catastrophic expenditure for surgical care (% of people at risk)</th>\n",
              "      <th>Risk of impoverishing expenditure for surgical care (% of people at risk)</th>\n",
              "      <th>Life expectancy at birth, total (years)</th>\n",
              "      <th>Life expectancy at birth, male (years)</th>\n",
              "      <th>Life expectancy at birth, female (years)</th>\n",
              "    </tr>\n",
              "  </thead>\n",
              "  <tbody>\n",
              "    <tr>\n",
              "      <th>1</th>\n",
              "      <td>1996</td>\n",
              "      <td>YR1996</td>\n",
              "      <td>Afghanistan</td>\n",
              "      <td>AFG</td>\n",
              "      <td>..</td>\n",
              "      <td>..</td>\n",
              "      <td>..</td>\n",
              "      <td>..</td>\n",
              "      <td>..</td>\n",
              "      <td>..</td>\n",
              "      <td>..</td>\n",
              "      <td>..</td>\n",
              "      <td>..</td>\n",
              "      <td>..</td>\n",
              "      <td>..</td>\n",
              "      <td>53.924</td>\n",
              "      <td>52.798</td>\n",
              "      <td>55.141</td>\n",
              "    </tr>\n",
              "    <tr>\n",
              "      <th>2</th>\n",
              "      <td>1996</td>\n",
              "      <td>YR1996</td>\n",
              "      <td>Albania</td>\n",
              "      <td>ALB</td>\n",
              "      <td>..</td>\n",
              "      <td>..</td>\n",
              "      <td>..</td>\n",
              "      <td>..</td>\n",
              "      <td>..</td>\n",
              "      <td>..</td>\n",
              "      <td>1.379029627</td>\n",
              "      <td>..</td>\n",
              "      <td>..</td>\n",
              "      <td>..</td>\n",
              "      <td>..</td>\n",
              "      <td>72.495</td>\n",
              "      <td>69.631</td>\n",
              "      <td>75.618</td>\n",
              "    </tr>\n",
              "    <tr>\n",
              "      <th>3</th>\n",
              "      <td>1996</td>\n",
              "      <td>YR1996</td>\n",
              "      <td>Algeria</td>\n",
              "      <td>DZA</td>\n",
              "      <td>..</td>\n",
              "      <td>..</td>\n",
              "      <td>..</td>\n",
              "      <td>..</td>\n",
              "      <td>..</td>\n",
              "      <td>..</td>\n",
              "      <td>3.094088396</td>\n",
              "      <td>10.97405635</td>\n",
              "      <td>..</td>\n",
              "      <td>..</td>\n",
              "      <td>..</td>\n",
              "      <td>68.919</td>\n",
              "      <td>67.441</td>\n",
              "      <td>70.441</td>\n",
              "    </tr>\n",
              "    <tr>\n",
              "      <th>4</th>\n",
              "      <td>1996</td>\n",
              "      <td>YR1996</td>\n",
              "      <td>American Samoa</td>\n",
              "      <td>ASM</td>\n",
              "      <td>..</td>\n",
              "      <td>..</td>\n",
              "      <td>..</td>\n",
              "      <td>..</td>\n",
              "      <td>..</td>\n",
              "      <td>..</td>\n",
              "      <td>..</td>\n",
              "      <td>..</td>\n",
              "      <td>..</td>\n",
              "      <td>..</td>\n",
              "      <td>..</td>\n",
              "      <td>..</td>\n",
              "      <td>..</td>\n",
              "      <td>..</td>\n",
              "    </tr>\n",
              "    <tr>\n",
              "      <th>5</th>\n",
              "      <td>1996</td>\n",
              "      <td>YR1996</td>\n",
              "      <td>Andorra</td>\n",
              "      <td>AND</td>\n",
              "      <td>..</td>\n",
              "      <td>..</td>\n",
              "      <td>..</td>\n",
              "      <td>..</td>\n",
              "      <td>..</td>\n",
              "      <td>..</td>\n",
              "      <td>..</td>\n",
              "      <td>..</td>\n",
              "      <td>..</td>\n",
              "      <td>..</td>\n",
              "      <td>..</td>\n",
              "      <td>..</td>\n",
              "      <td>..</td>\n",
              "      <td>..</td>\n",
              "    </tr>\n",
              "  </tbody>\n",
              "</table>\n",
              "</div>"
            ],
            "text/plain": [
              "0  Time  ... Life expectancy at birth, female (years)\n",
              "1  1996  ...                                   55.141\n",
              "2  1996  ...                                   75.618\n",
              "3  1996  ...                                   70.441\n",
              "4  1996  ...                                       ..\n",
              "5  1996  ...                                       ..\n",
              "\n",
              "[5 rows x 18 columns]"
            ]
          },
          "metadata": {
            "tags": []
          },
          "execution_count": 4
        }
      ]
    },
    {
      "cell_type": "code",
      "metadata": {
        "colab": {
          "base_uri": "https://localhost:8080/",
          "height": 382
        },
        "id": "NwswceXcRK1r",
        "outputId": "5206faf4-ba70-4939-f114-0b8ed9b287ba"
      },
      "source": [
        "df1=df.replace(\"..\",np.NaN)\n",
        "df1.head()"
      ],
      "execution_count": 5,
      "outputs": [
        {
          "output_type": "execute_result",
          "data": {
            "text/html": [
              "<div>\n",
              "<style scoped>\n",
              "    .dataframe tbody tr th:only-of-type {\n",
              "        vertical-align: middle;\n",
              "    }\n",
              "\n",
              "    .dataframe tbody tr th {\n",
              "        vertical-align: top;\n",
              "    }\n",
              "\n",
              "    .dataframe thead th {\n",
              "        text-align: right;\n",
              "    }\n",
              "</style>\n",
              "<table border=\"1\" class=\"dataframe\">\n",
              "  <thead>\n",
              "    <tr style=\"text-align: right;\">\n",
              "      <th></th>\n",
              "      <th>Time</th>\n",
              "      <th>Time Code</th>\n",
              "      <th>Country Name</th>\n",
              "      <th>Country Code</th>\n",
              "      <th>Current health expenditure (% of GDP)</th>\n",
              "      <th>Domestic general government health expenditure (% of current health expenditure)</th>\n",
              "      <th>Domestic general government health expenditure (% of GDP)</th>\n",
              "      <th>Domestic general government health expenditure (% of general government expenditure)</th>\n",
              "      <th>Domestic private health expenditure (% of current health expenditure)</th>\n",
              "      <th>External health expenditure (% of current health expenditure)</th>\n",
              "      <th>Military expenditure (% of GDP)</th>\n",
              "      <th>Military expenditure (% of general government expenditure)</th>\n",
              "      <th>Out-of-pocket expenditure (% of current health expenditure)</th>\n",
              "      <th>Risk of catastrophic expenditure for surgical care (% of people at risk)</th>\n",
              "      <th>Risk of impoverishing expenditure for surgical care (% of people at risk)</th>\n",
              "      <th>Life expectancy at birth, total (years)</th>\n",
              "      <th>Life expectancy at birth, male (years)</th>\n",
              "      <th>Life expectancy at birth, female (years)</th>\n",
              "    </tr>\n",
              "  </thead>\n",
              "  <tbody>\n",
              "    <tr>\n",
              "      <th>1</th>\n",
              "      <td>1996</td>\n",
              "      <td>YR1996</td>\n",
              "      <td>Afghanistan</td>\n",
              "      <td>AFG</td>\n",
              "      <td>NaN</td>\n",
              "      <td>NaN</td>\n",
              "      <td>NaN</td>\n",
              "      <td>NaN</td>\n",
              "      <td>NaN</td>\n",
              "      <td>NaN</td>\n",
              "      <td>NaN</td>\n",
              "      <td>NaN</td>\n",
              "      <td>NaN</td>\n",
              "      <td>NaN</td>\n",
              "      <td>NaN</td>\n",
              "      <td>53.924</td>\n",
              "      <td>52.798</td>\n",
              "      <td>55.141</td>\n",
              "    </tr>\n",
              "    <tr>\n",
              "      <th>2</th>\n",
              "      <td>1996</td>\n",
              "      <td>YR1996</td>\n",
              "      <td>Albania</td>\n",
              "      <td>ALB</td>\n",
              "      <td>NaN</td>\n",
              "      <td>NaN</td>\n",
              "      <td>NaN</td>\n",
              "      <td>NaN</td>\n",
              "      <td>NaN</td>\n",
              "      <td>NaN</td>\n",
              "      <td>1.379029627</td>\n",
              "      <td>NaN</td>\n",
              "      <td>NaN</td>\n",
              "      <td>NaN</td>\n",
              "      <td>NaN</td>\n",
              "      <td>72.495</td>\n",
              "      <td>69.631</td>\n",
              "      <td>75.618</td>\n",
              "    </tr>\n",
              "    <tr>\n",
              "      <th>3</th>\n",
              "      <td>1996</td>\n",
              "      <td>YR1996</td>\n",
              "      <td>Algeria</td>\n",
              "      <td>DZA</td>\n",
              "      <td>NaN</td>\n",
              "      <td>NaN</td>\n",
              "      <td>NaN</td>\n",
              "      <td>NaN</td>\n",
              "      <td>NaN</td>\n",
              "      <td>NaN</td>\n",
              "      <td>3.094088396</td>\n",
              "      <td>10.97405635</td>\n",
              "      <td>NaN</td>\n",
              "      <td>NaN</td>\n",
              "      <td>NaN</td>\n",
              "      <td>68.919</td>\n",
              "      <td>67.441</td>\n",
              "      <td>70.441</td>\n",
              "    </tr>\n",
              "    <tr>\n",
              "      <th>4</th>\n",
              "      <td>1996</td>\n",
              "      <td>YR1996</td>\n",
              "      <td>American Samoa</td>\n",
              "      <td>ASM</td>\n",
              "      <td>NaN</td>\n",
              "      <td>NaN</td>\n",
              "      <td>NaN</td>\n",
              "      <td>NaN</td>\n",
              "      <td>NaN</td>\n",
              "      <td>NaN</td>\n",
              "      <td>NaN</td>\n",
              "      <td>NaN</td>\n",
              "      <td>NaN</td>\n",
              "      <td>NaN</td>\n",
              "      <td>NaN</td>\n",
              "      <td>NaN</td>\n",
              "      <td>NaN</td>\n",
              "      <td>NaN</td>\n",
              "    </tr>\n",
              "    <tr>\n",
              "      <th>5</th>\n",
              "      <td>1996</td>\n",
              "      <td>YR1996</td>\n",
              "      <td>Andorra</td>\n",
              "      <td>AND</td>\n",
              "      <td>NaN</td>\n",
              "      <td>NaN</td>\n",
              "      <td>NaN</td>\n",
              "      <td>NaN</td>\n",
              "      <td>NaN</td>\n",
              "      <td>NaN</td>\n",
              "      <td>NaN</td>\n",
              "      <td>NaN</td>\n",
              "      <td>NaN</td>\n",
              "      <td>NaN</td>\n",
              "      <td>NaN</td>\n",
              "      <td>NaN</td>\n",
              "      <td>NaN</td>\n",
              "      <td>NaN</td>\n",
              "    </tr>\n",
              "  </tbody>\n",
              "</table>\n",
              "</div>"
            ],
            "text/plain": [
              "0  Time  ... Life expectancy at birth, female (years)\n",
              "1  1996  ...                                   55.141\n",
              "2  1996  ...                                   75.618\n",
              "3  1996  ...                                   70.441\n",
              "4  1996  ...                                      NaN\n",
              "5  1996  ...                                      NaN\n",
              "\n",
              "[5 rows x 18 columns]"
            ]
          },
          "metadata": {
            "tags": []
          },
          "execution_count": 5
        }
      ]
    },
    {
      "cell_type": "markdown",
      "metadata": {
        "id": "bsQEeKIGOgC2"
      },
      "source": [
        "With the missing values corrected, I remove the odd columns, getting rid of everything without a country name, and then create a list of non-country names so I can subset more easily within countries"
      ]
    },
    {
      "cell_type": "code",
      "metadata": {
        "colab": {
          "base_uri": "https://localhost:8080/",
          "height": 382
        },
        "id": "VySpUU7nRsgz",
        "outputId": "274a3d49-0ddc-48e5-c4b0-926371918fd9"
      },
      "source": [
        "df2=df1[df1['Country Name'] != '']\n",
        "df2.head()"
      ],
      "execution_count": 6,
      "outputs": [
        {
          "output_type": "execute_result",
          "data": {
            "text/html": [
              "<div>\n",
              "<style scoped>\n",
              "    .dataframe tbody tr th:only-of-type {\n",
              "        vertical-align: middle;\n",
              "    }\n",
              "\n",
              "    .dataframe tbody tr th {\n",
              "        vertical-align: top;\n",
              "    }\n",
              "\n",
              "    .dataframe thead th {\n",
              "        text-align: right;\n",
              "    }\n",
              "</style>\n",
              "<table border=\"1\" class=\"dataframe\">\n",
              "  <thead>\n",
              "    <tr style=\"text-align: right;\">\n",
              "      <th></th>\n",
              "      <th>Time</th>\n",
              "      <th>Time Code</th>\n",
              "      <th>Country Name</th>\n",
              "      <th>Country Code</th>\n",
              "      <th>Current health expenditure (% of GDP)</th>\n",
              "      <th>Domestic general government health expenditure (% of current health expenditure)</th>\n",
              "      <th>Domestic general government health expenditure (% of GDP)</th>\n",
              "      <th>Domestic general government health expenditure (% of general government expenditure)</th>\n",
              "      <th>Domestic private health expenditure (% of current health expenditure)</th>\n",
              "      <th>External health expenditure (% of current health expenditure)</th>\n",
              "      <th>Military expenditure (% of GDP)</th>\n",
              "      <th>Military expenditure (% of general government expenditure)</th>\n",
              "      <th>Out-of-pocket expenditure (% of current health expenditure)</th>\n",
              "      <th>Risk of catastrophic expenditure for surgical care (% of people at risk)</th>\n",
              "      <th>Risk of impoverishing expenditure for surgical care (% of people at risk)</th>\n",
              "      <th>Life expectancy at birth, total (years)</th>\n",
              "      <th>Life expectancy at birth, male (years)</th>\n",
              "      <th>Life expectancy at birth, female (years)</th>\n",
              "    </tr>\n",
              "  </thead>\n",
              "  <tbody>\n",
              "    <tr>\n",
              "      <th>1</th>\n",
              "      <td>1996</td>\n",
              "      <td>YR1996</td>\n",
              "      <td>Afghanistan</td>\n",
              "      <td>AFG</td>\n",
              "      <td>NaN</td>\n",
              "      <td>NaN</td>\n",
              "      <td>NaN</td>\n",
              "      <td>NaN</td>\n",
              "      <td>NaN</td>\n",
              "      <td>NaN</td>\n",
              "      <td>NaN</td>\n",
              "      <td>NaN</td>\n",
              "      <td>NaN</td>\n",
              "      <td>NaN</td>\n",
              "      <td>NaN</td>\n",
              "      <td>53.924</td>\n",
              "      <td>52.798</td>\n",
              "      <td>55.141</td>\n",
              "    </tr>\n",
              "    <tr>\n",
              "      <th>2</th>\n",
              "      <td>1996</td>\n",
              "      <td>YR1996</td>\n",
              "      <td>Albania</td>\n",
              "      <td>ALB</td>\n",
              "      <td>NaN</td>\n",
              "      <td>NaN</td>\n",
              "      <td>NaN</td>\n",
              "      <td>NaN</td>\n",
              "      <td>NaN</td>\n",
              "      <td>NaN</td>\n",
              "      <td>1.379029627</td>\n",
              "      <td>NaN</td>\n",
              "      <td>NaN</td>\n",
              "      <td>NaN</td>\n",
              "      <td>NaN</td>\n",
              "      <td>72.495</td>\n",
              "      <td>69.631</td>\n",
              "      <td>75.618</td>\n",
              "    </tr>\n",
              "    <tr>\n",
              "      <th>3</th>\n",
              "      <td>1996</td>\n",
              "      <td>YR1996</td>\n",
              "      <td>Algeria</td>\n",
              "      <td>DZA</td>\n",
              "      <td>NaN</td>\n",
              "      <td>NaN</td>\n",
              "      <td>NaN</td>\n",
              "      <td>NaN</td>\n",
              "      <td>NaN</td>\n",
              "      <td>NaN</td>\n",
              "      <td>3.094088396</td>\n",
              "      <td>10.97405635</td>\n",
              "      <td>NaN</td>\n",
              "      <td>NaN</td>\n",
              "      <td>NaN</td>\n",
              "      <td>68.919</td>\n",
              "      <td>67.441</td>\n",
              "      <td>70.441</td>\n",
              "    </tr>\n",
              "    <tr>\n",
              "      <th>4</th>\n",
              "      <td>1996</td>\n",
              "      <td>YR1996</td>\n",
              "      <td>American Samoa</td>\n",
              "      <td>ASM</td>\n",
              "      <td>NaN</td>\n",
              "      <td>NaN</td>\n",
              "      <td>NaN</td>\n",
              "      <td>NaN</td>\n",
              "      <td>NaN</td>\n",
              "      <td>NaN</td>\n",
              "      <td>NaN</td>\n",
              "      <td>NaN</td>\n",
              "      <td>NaN</td>\n",
              "      <td>NaN</td>\n",
              "      <td>NaN</td>\n",
              "      <td>NaN</td>\n",
              "      <td>NaN</td>\n",
              "      <td>NaN</td>\n",
              "    </tr>\n",
              "    <tr>\n",
              "      <th>5</th>\n",
              "      <td>1996</td>\n",
              "      <td>YR1996</td>\n",
              "      <td>Andorra</td>\n",
              "      <td>AND</td>\n",
              "      <td>NaN</td>\n",
              "      <td>NaN</td>\n",
              "      <td>NaN</td>\n",
              "      <td>NaN</td>\n",
              "      <td>NaN</td>\n",
              "      <td>NaN</td>\n",
              "      <td>NaN</td>\n",
              "      <td>NaN</td>\n",
              "      <td>NaN</td>\n",
              "      <td>NaN</td>\n",
              "      <td>NaN</td>\n",
              "      <td>NaN</td>\n",
              "      <td>NaN</td>\n",
              "      <td>NaN</td>\n",
              "    </tr>\n",
              "  </tbody>\n",
              "</table>\n",
              "</div>"
            ],
            "text/plain": [
              "0  Time  ... Life expectancy at birth, female (years)\n",
              "1  1996  ...                                   55.141\n",
              "2  1996  ...                                   75.618\n",
              "3  1996  ...                                   70.441\n",
              "4  1996  ...                                      NaN\n",
              "5  1996  ...                                      NaN\n",
              "\n",
              "[5 rows x 18 columns]"
            ]
          },
          "metadata": {
            "tags": []
          },
          "execution_count": 6
        }
      ]
    },
    {
      "cell_type": "code",
      "metadata": {
        "id": "vhWSO3mZ75_T"
      },
      "source": [
        "df2['Country Name'].unique()\n",
        "regions=['Africa Eastern and Southern', 'Africa Western and Central',\n",
        "       'Arab World', 'Caribbean small states',\n",
        "       'Central Europe and the Baltics', 'Early-demographic dividend',\n",
        "       'East Asia & Pacific',\n",
        "       'East Asia & Pacific (excluding high income)',\n",
        "       'East Asia & Pacific (IDA & IBRD countries)', 'Euro area',\n",
        "       'Europe & Central Asia',\n",
        "       'Europe & Central Asia (excluding high income)',\n",
        "       'Europe & Central Asia (IDA & IBRD countries)', 'European Union',\n",
        "       'Fragile and conflict affected situations',\n",
        "       'Heavily indebted poor countries (HIPC)', 'High income',\n",
        "       'IBRD only', 'IDA & IBRD total', 'IDA blend', 'IDA only',\n",
        "       'IDA total', 'Late-demographic dividend',\n",
        "       'Latin America & Caribbean',\n",
        "       'Latin America & Caribbean (excluding high income)',\n",
        "       'Latin America & the Caribbean (IDA & IBRD countries)',\n",
        "       'Least developed countries: UN classification',\n",
        "       'Low & middle income', 'Low income', 'Lower middle income',\n",
        "       'Middle East & North Africa',\n",
        "       'Middle East & North Africa (excluding high income)',\n",
        "       'Middle East & North Africa (IDA & IBRD countries)',\n",
        "       'Middle income', 'North America', 'Not classified', 'OECD members',\n",
        "       'Other small states', 'Pacific island small states',\n",
        "       'Post-demographic dividend', 'Pre-demographic dividend',\n",
        "       'Small states', 'South Asia', 'South Asia (IDA & IBRD)',\n",
        "       'Sub-Saharan Africa', 'Sub-Saharan Africa (excluding high income)',\n",
        "       'Sub-Saharan Africa (IDA & IBRD countries)', 'Upper middle income',\n",
        "       'World']"
      ],
      "execution_count": 9,
      "outputs": []
    },
    {
      "cell_type": "markdown",
      "metadata": {
        "id": "ZqTxE8N8-H5N"
      },
      "source": [
        "Looking at how global life expectancy changes year over year, I need to do a little bit of cleaning (ensure the years are datetime, life expctancy is numeric) and chose a scatterplot instead of line because I like the way the notches look to more clearly show each individual year"
      ]
    },
    {
      "cell_type": "code",
      "metadata": {
        "colab": {
          "base_uri": "https://localhost:8080/",
          "height": 313
        },
        "id": "u-ilarB68IHu",
        "outputId": "62a54ba6-e0d0-423b-8660-c06d9e2c8c5a"
      },
      "source": [
        "df_world = df2[df2['Country Name']=='World']\n",
        "df_world = df_world[pd.notnull(df_world['Life expectancy at birth, total (years)'])]\n",
        "df_world['Life expectancy at birth, total (years)'] = pd.to_numeric(df_world['Life expectancy at birth, total (years)'])\n",
        "df_world['Time'] = pd.to_datetime(df_world['Time'],format='%Y')\n",
        "sns.scatterplot( data = df_world,x='Time', y='Life expectancy at birth, total (years)')\n",
        "plt.title('Global Average Life Expectancy Year Over Year')\n",
        "##Clean it up\n"
      ],
      "execution_count": 10,
      "outputs": [
        {
          "output_type": "execute_result",
          "data": {
            "text/plain": [
              "Text(0.5, 1.0, 'Global Average Life Expectancy Year Over Year')"
            ]
          },
          "metadata": {
            "tags": []
          },
          "execution_count": 10
        },
        {
          "output_type": "display_data",
          "data": {
            "image/png": "[encoded data removed]",
            "text/plain": [
              "<Figure size 432x288 with 1 Axes>"
            ]
          },
          "metadata": {
            "tags": [],
            "needs_background": "light"
          }
        }
      ]
    },
    {
      "cell_type": "markdown",
      "metadata": {
        "id": "v85aAAxjGHnC"
      },
      "source": [
        "I'm curious about figuring out the top and bottom 10 countries life expectancies, and then plotting them similarly."
      ]
    },
    {
      "cell_type": "code",
      "metadata": {
        "colab": {
          "base_uri": "https://localhost:8080/"
        },
        "id": "CCPbRUN9CDju",
        "outputId": "23bfefc9-374e-425d-bf6b-0c2efd7abaea"
      },
      "source": [
        "df_countries = df2[~df2['Country Name'].isin(regions)]\n",
        "df_countries = df_countries[pd.notnull(df_countries['Life expectancy at birth, total (years)'])]\n",
        "df_countries['Life expectancy at birth, total (years)'] = pd.to_numeric(df_countries['Life expectancy at birth, total (years)'])\n",
        "df_countries['Time'] = pd.to_datetime(df_countries['Time'],format='%Y')\n",
        "df_countries.groupby(['Country Name'])['Life expectancy at birth, total (years)'].mean().sort_values(ascending=False)\n",
        "##df_countries.groupby(['Country Name','Time'])['Life expectancy at birth, total (years)'].mean()\n",
        "df_top = df_countries.groupby(['Country Name'])['Life expectancy at birth, total (years)'].mean().sort_values(ascending=False).head(10).reset_index()\n",
        "df_bottom = df_countries.groupby(['Country Name'])['Life expectancy at birth, total (years)'].mean().sort_values(ascending=False).tail(10).reset_index()\n",
        "df_tc= df_countries[df['Country Name'].isin(df_top['Country Name'])]\n",
        "df_bc= df_countries[df['Country Name'].isin(df_bottom['Country Name'])]"
      ],
      "execution_count": 11,
      "outputs": [
        {
          "output_type": "stream",
          "text": [
            "/usr/local/lib/python3.7/dist-packages/ipykernel_launcher.py:9: UserWarning: Boolean Series key will be reindexed to match DataFrame index.\n",
            "  if __name__ == '__main__':\n",
            "/usr/local/lib/python3.7/dist-packages/ipykernel_launcher.py:10: UserWarning: Boolean Series key will be reindexed to match DataFrame index.\n",
            "  # Remove the CWD from sys.path while we load stuff.\n"
          ],
          "name": "stderr"
        }
      ]
    },
    {
      "cell_type": "code",
      "metadata": {
        "colab": {
          "base_uri": "https://localhost:8080/",
          "height": 313
        },
        "id": "x34aQbF5Ln-Y",
        "outputId": "34e99323-abaa-4de0-ccec-46335e01ad03"
      },
      "source": [
        "sns.scatterplot(data=df_tc, x='Time', y='Life expectancy at birth, total (years)', hue='Country Name', alpha = .6)\n",
        "plt.legend(bbox_to_anchor=(1.05, 1), loc='upper left', borderaxespad=0)\n",
        "plt.title('Countries With Top 10 Life Expectancy Over Time')\n",
        "##Clean Up, make title, make dots see through, plot the gender versions, look at what's going on with San Marino?"
      ],
      "execution_count": 12,
      "outputs": [
        {
          "output_type": "execute_result",
          "data": {
            "text/plain": [
              "Text(0.5, 1.0, 'Countries With Top 10 Life Expectancy Over Time')"
            ]
          },
          "metadata": {
            "tags": []
          },
          "execution_count": 12
        },
        {
          "output_type": "display_data",
          "data": {
            "image/png": "[encoded data removed]",
            "text/plain": [
              "<Figure size 432x288 with 1 Axes>"
            ]
          },
          "metadata": {
            "tags": [],
            "needs_background": "light"
          }
        }
      ]
    },
    {
      "cell_type": "code",
      "metadata": {
        "colab": {
          "base_uri": "https://localhost:8080/",
          "height": 313
        },
        "id": "xdLvX3U0L_jk",
        "outputId": "a4f4f6ac-a263-4e91-93b8-0222ef7eb15e"
      },
      "source": [
        "sns.scatterplot(data=df_bc, x='Time', y='Life expectancy at birth, total (years)', hue='Country Name',alpha = .6)\n",
        "plt.legend(bbox_to_anchor=(1.05, 1), loc='upper left', borderaxespad=0)\n",
        "plt.title('Countries With Bottom 10 Life Expectancy Over Time')\n",
        "##Clean Up"
      ],
      "execution_count": 13,
      "outputs": [
        {
          "output_type": "execute_result",
          "data": {
            "text/plain": [
              "Text(0.5, 1.0, 'Countries With Bottom 10 Life Expectancy Over Time')"
            ]
          },
          "metadata": {
            "tags": []
          },
          "execution_count": 13
        },
        {
          "output_type": "display_data",
          "data": {
            "image/png": "[encoded data removed]",
            "text/plain": [
              "<Figure size 432x288 with 1 Axes>"
            ]
          },
          "metadata": {
            "tags": [],
            "needs_background": "light"
          }
        }
      ]
    },
    {
      "cell_type": "markdown",
      "metadata": {
        "id": "Up5nzHO_cAzo"
      },
      "source": [
        "San Marino is such a weird outlier on these two graphs that I want to focus exclusively on them, and I'll do a more concise write up of this tomorrow."
      ]
    },
    {
      "cell_type": "code",
      "metadata": {
        "colab": {
          "base_uri": "https://localhost:8080/",
          "height": 611
        },
        "id": "aQ1cSoZ6OjNJ",
        "outputId": "8129fddf-518e-4940-d730-6921b130a298"
      },
      "source": [
        "df_sm = df_tc[df_tc['Country Name']=='San Marino']\n",
        "df_sm['Life expectancy at birth, male (years)'] = pd.to_numeric(df_countries['Life expectancy at birth, male (years)'])\n",
        "df_sm['Life expectancy at birth, female (years)'] = pd.to_numeric(df_countries['Life expectancy at birth, male (years)'])\n",
        "df_sm['Time'] = pd.to_datetime(df_sm['Time'],format='%Y')\n",
        "sns.scatterplot(data=df_sm, x='Time', y ='Life expectancy at birth, total (years)')\n",
        "##sns.scatterplot(data=df_sm, x='Time', y ='Life expectancy at birth, female (years)')"
      ],
      "execution_count": 16,
      "outputs": [
        {
          "output_type": "stream",
          "text": [
            "/usr/local/lib/python3.7/dist-packages/ipykernel_launcher.py:2: SettingWithCopyWarning: \n",
            "A value is trying to be set on a copy of a slice from a DataFrame.\n",
            "Try using .loc[row_indexer,col_indexer] = value instead\n",
            "\n",
            "See the caveats in the documentation: https://pandas.pydata.org/pandas-docs/stable/user_guide/indexing.html#returning-a-view-versus-a-copy\n",
            "  \n",
            "/usr/local/lib/python3.7/dist-packages/ipykernel_launcher.py:3: SettingWithCopyWarning: \n",
            "A value is trying to be set on a copy of a slice from a DataFrame.\n",
            "Try using .loc[row_indexer,col_indexer] = value instead\n",
            "\n",
            "See the caveats in the documentation: https://pandas.pydata.org/pandas-docs/stable/user_guide/indexing.html#returning-a-view-versus-a-copy\n",
            "  This is separate from the ipykernel package so we can avoid doing imports until\n",
            "/usr/local/lib/python3.7/dist-packages/ipykernel_launcher.py:4: SettingWithCopyWarning: \n",
            "A value is trying to be set on a copy of a slice from a DataFrame.\n",
            "Try using .loc[row_indexer,col_indexer] = value instead\n",
            "\n",
            "See the caveats in the documentation: https://pandas.pydata.org/pandas-docs/stable/user_guide/indexing.html#returning-a-view-versus-a-copy\n",
            "  after removing the cwd from sys.path.\n"
          ],
          "name": "stderr"
        },
        {
          "output_type": "execute_result",
          "data": {
            "text/plain": [
              "<matplotlib.axes._subplots.AxesSubplot at 0x7fa7da387a10>"
            ]
          },
          "metadata": {
            "tags": []
          },
          "execution_count": 16
        },
        {
          "output_type": "display_data",
          "data": {
            "image/png": "[encoded data removed]",
            "text/plain": [
              "<Figure size 432x288 with 1 Axes>"
            ]
          },
          "metadata": {
            "tags": [],
            "needs_background": "light"
          }
        }
      ]
    },
    {
      "cell_type": "markdown",
      "metadata": {
        "id": "pSEBDSOmJN8F"
      },
      "source": [
        "So what I've learned is that San Marino only has one year of data, 2012, which is why its' average life expectancy is so much higher. Mystery solved, and in all future considerations they will be excluded."
      ]
    }
  ]
}